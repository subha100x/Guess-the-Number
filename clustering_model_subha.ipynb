{
  "nbformat": 4,
  "nbformat_minor": 0,
  "metadata": {
    "colab": {
      "provenance": [],
      "authorship_tag": "ABX9TyO0KcfSJ11edoqIfaFW0tfp",
      "include_colab_link": true
    },
    "kernelspec": {
      "name": "python3",
      "display_name": "Python 3"
    },
    "language_info": {
      "name": "python"
    }
  },
  "cells": [
    {
      "cell_type": "markdown",
      "metadata": {
        "id": "view-in-github",
        "colab_type": "text"
      },
      "source": [
        "<a href=\"https://colab.research.google.com/github/subha100x/Guess-the-Number/blob/main/clustering_model_subha.ipynb\" target=\"_parent\"><img src=\"https://colab.research.google.com/assets/colab-badge.svg\" alt=\"Open In Colab\"/></a>"
      ]
    },
    {
      "cell_type": "code",
      "execution_count": null,
      "metadata": {
        "id": "SdRg6oTgtUFI"
      },
      "outputs": [],
      "source": [
        "import pandas as pd\n",
        "import numpy as np\n",
        "from sklearn.feature_extraction.text import TfidfVectorizer\n",
        "from sklearn.cluster import KMeans, DBSCAN, AgglomerativeClustering\n",
        "from sklearn.metrics import silhouette_score, davies_bouldin_score\n",
        "import pickle\n"
      ]
    },
    {
      "cell_type": "code",
      "source": [
        "# Load preprocessed reviews\n",
        "data = pd.read_csv('amazon_reviews.csv')\n",
        "print(data.head())"
      ],
      "metadata": {
        "colab": {
          "base_uri": "https://localhost:8080/"
        },
        "id": "9BQWs_XquKkT",
        "outputId": "98736a0e-423e-45f0-b443-34574532fa01"
      },
      "execution_count": null,
      "outputs": [
        {
          "output_type": "stream",
          "name": "stdout",
          "text": [
            "      Reviewer ID Product Purchased Customer Name  \\\n",
            "0  A3SBTW3WS4IQSN        B007WTAJTO           NaN   \n",
            "1  A18K1ODH1I2MVB        B007WTAJTO          0mie   \n",
            "2  A2FII3I2MBMUIA        B007WTAJTO           1K3   \n",
            "3   A3H99DFEG68SR        B007WTAJTO           1m2   \n",
            "4  A375ZM4U047O79        B007WTAJTO  2&amp;1/2Men   \n",
            "\n",
            "                                         Review Text  Rating  \n",
            "0                                         No issues.       4  \n",
            "1  Purchased this for my device, it worked as adv...       5  \n",
            "2  it works as expected. I should have sprung for...       4  \n",
            "3  This think has worked out great.Had a diff. br...       5  \n",
            "4  Bought it with Retail Packaging, arrived legit...       5  \n"
          ]
        }
      ]
    },
    {
      "cell_type": "code",
      "source": [
        "data['Review Text'] = data['Review Text'].fillna('')\n",
        "vectorizer = TfidfVectorizer(max_features=5000, stop_words='english')\n",
        "X = vectorizer.fit_transform(data['Review Text'])"
      ],
      "metadata": {
        "id": "MbI7v_yauo8K"
      },
      "execution_count": null,
      "outputs": []
    },
    {
      "cell_type": "code",
      "source": [
        "# Try different cluster numbers\n",
        "scores = {}\n",
        "for k in range(2, 8):\n",
        "    km = KMeans(n_clusters=k, random_state=42)\n",
        "    labels = km.fit_predict(X)\n",
        "    sil = silhouette_score(X, labels)\n",
        "    db = davies_bouldin_score(X.toarray(), labels)\n",
        "    scores[k] = (sil, db)\n",
        "    print(f\"K={k} → Silhouette={sil:.3f}, DB={db:.3f}\")\n"
      ],
      "metadata": {
        "colab": {
          "base_uri": "https://localhost:8080/"
        },
        "id": "2_lK3IoUu4a8",
        "outputId": "eb4502ef-a477-4731-bce7-842fdb671c8b"
      },
      "execution_count": null,
      "outputs": [
        {
          "output_type": "stream",
          "name": "stdout",
          "text": [
            "K=2 → Silhouette=0.004, DB=11.867\n",
            "K=3 → Silhouette=0.004, DB=11.011\n",
            "K=4 → Silhouette=0.005, DB=10.248\n",
            "K=5 → Silhouette=0.004, DB=9.796\n",
            "K=6 → Silhouette=0.006, DB=9.748\n",
            "K=7 → Silhouette=0.005, DB=9.395\n"
          ]
        }
      ]
    },
    {
      "cell_type": "code",
      "source": [
        "best_k = max(scores, key=lambda k: scores[k][0])  # highest silhouette\n",
        "print(\"Best K:\", best_k)\n",
        "\n",
        "best_kmeans = KMeans(n_clusters=best_k, random_state=42)\n",
        "labels = best_kmeans.fit_predict(X)\n",
        "data['cluster'] = labels\n"
      ],
      "metadata": {
        "colab": {
          "base_uri": "https://localhost:8080/"
        },
        "id": "RmrgJEyOu9eL",
        "outputId": "d2a13328-c8b7-4a80-87fe-5880d88e36a1"
      },
      "execution_count": null,
      "outputs": [
        {
          "output_type": "stream",
          "name": "stdout",
          "text": [
            "Best K: 6\n"
          ]
        }
      ]
    },
    {
      "cell_type": "markdown",
      "source": [
        "KMeans performed best at K=6, giving Silhouette = 0.006 and DB Index = 9.748."
      ],
      "metadata": {
        "id": "HcPjOPL6wpvA"
      }
    },
    {
      "cell_type": "code",
      "source": [
        "dbscan = DBSCAN(eps=0.5, min_samples=5)\n",
        "labels_db = dbscan.fit_predict(X)\n",
        "if len(set(labels_db)) > 1:\n",
        "    print(\"DBSCAN Silhouette:\", silhouette_score(X, labels_db))\n"
      ],
      "metadata": {
        "id": "sXdxxez5u_61"
      },
      "execution_count": null,
      "outputs": []
    },
    {
      "cell_type": "markdown",
      "source": [
        "DBSCAN failed to form clear clusters due to sparse TF-IDF vectors (most reviews marked as noise)."
      ],
      "metadata": {
        "id": "S19Vxs2QwwuL"
      }
    },
    {
      "cell_type": "code",
      "source": [
        "agg = AgglomerativeClustering(n_clusters=best_k)\n",
        "labels_agg = agg.fit_predict(X.toarray())\n",
        "print(\"Agglomerative Silhouette:\", silhouette_score(X, labels_agg))\n"
      ],
      "metadata": {
        "colab": {
          "base_uri": "https://localhost:8080/"
        },
        "id": "3YPsbKb6vCxP",
        "outputId": "0d234a66-559a-4ec4-d63e-1a687fe2205a"
      },
      "execution_count": null,
      "outputs": [
        {
          "output_type": "stream",
          "name": "stdout",
          "text": [
            "Agglomerative Silhouette: -0.001776528548745903\n"
          ]
        }
      ]
    },
    {
      "cell_type": "markdown",
      "source": [
        "Agglomerative clustering also gave very low Silhouette, indicating poor separation."
      ],
      "metadata": {
        "id": "fHY9tHTnw18V"
      }
    },
    {
      "cell_type": "code",
      "source": [
        "with open(\"best_kmeans_model.pkl\", \"wb\") as f:\n",
        "    pickle.dump(best_kmeans, f)\n",
        "\n",
        "with open(\"tfidf_vectorizer.pkl\", \"wb\") as f:\n",
        "    pickle.dump(vectorizer, f)\n",
        "\n",
        "data.to_csv(\"clustered_reviews.csv\", index=False)\n"
      ],
      "metadata": {
        "id": "p-37Et2wveEl"
      },
      "execution_count": null,
      "outputs": []
    },
    {
      "cell_type": "markdown",
      "source": [
        "Overall, KMeans was the most effective method, though scores were weak, suggesting the dataset is difficult to cluster and could benefit from advanced embeddings"
      ],
      "metadata": {
        "id": "BL9ys0Y4w6BM"
      }
    }
  ]
}